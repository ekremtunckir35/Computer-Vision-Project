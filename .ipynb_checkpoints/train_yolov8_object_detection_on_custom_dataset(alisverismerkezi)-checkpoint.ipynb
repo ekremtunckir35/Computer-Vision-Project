{
 "cells": [
  {
   "cell_type": "markdown",
   "metadata": {
    "id": "oe9vkEvFABbN"
   },
   "source": [
    "[![Roboflow Notebooks](https://media.roboflow.com/notebooks/template/bannertest2-2.png?ik-sdk-version=javascript-1.4.3&updatedAt=1672932710194)](https://github.com/roboflow/notebooks)\n",
    "\n",
    "# How to Train YOLOv8 Object Detection on a Custom Dataset\n",
    "\n",
    "---\n",
    "\n",
    "[![Roboflow](https://raw.githubusercontent.com/roboflow-ai/notebooks/main/assets/badges/roboflow-blogpost.svg)](https://blog.roboflow.com/how-to-train-yolov8-on-a-custom-dataset)\n",
    "[![YouTube](https://badges.aleen42.com/src/youtube.svg)](https://youtu.be/wuZtUMEiKWY)\n",
    "[![GitHub](https://badges.aleen42.com/src/github.svg)](https://github.com/ultralytics/ultralytics)\n",
    "\n",
    "Ultralytics YOLOv8 is the latest version of the YOLO (You Only Look Once) object detection and image segmentation model developed by Ultralytics. The YOLOv8 model is designed to be fast, accurate, and easy to use, making it an excellent choice for a wide range of object detection and image segmentation tasks. It can be trained on large datasets and is capable of running on a variety of hardware platforms, from CPUs to GPUs.\n",
    "\n",
    "## ⚠️ Disclaimer\n",
    "\n",
    "YOLOv8 is still under heavy development. Breaking changes are being introduced almost weekly. We strive to make our YOLOv8 notebooks work with the latest version of the library. Last tests took place on **03.01.2024** with version **YOLOv8.0.196**.\n",
    "\n",
    "If you notice that our notebook behaves incorrectly - especially if you experience errors that prevent you from going through the tutorial - don't hesitate! Let us know and open an [issue](https://github.com/roboflow/notebooks/issues) on the Roboflow Notebooks repository.\n",
    "\n",
    "## Accompanying Blog Post\n",
    "\n",
    "We recommend that you follow along in this notebook while reading the blog post on how to train YOLOv8 Object Detection, concurrently.\n",
    "\n",
    "## Pro Tip: Use GPU Acceleration\n",
    "\n",
    "If you are running this notebook in Google Colab, navigate to `Edit` -> `Notebook settings` -> `Hardware accelerator`, set it to `GPU`, and then click `Save`. This will ensure your notebook uses a GPU, which will significantly speed up model training times.\n",
    "\n",
    "## Steps in this Tutorial\n",
    "\n",
    "In this tutorial, we are going to cover:\n",
    "\n",
    "- Before you start\n",
    "- Install YOLOv8\n",
    "- CLI Basics\n",
    "- Inference with Pre-trained COCO Model\n",
    "- Roboflow Universe\n",
    "- Preparing a custom dataset\n",
    "- Custom Training\n",
    "- Validate Custom Model\n",
    "- Inference with Custom Model\n",
    "\n",
    "**Let's begin!**"
   ]
  },
  {
   "cell_type": "markdown",
   "metadata": {
    "id": "FyRdDYkqAKN4"
   },
   "source": [
    "## Before you start\n",
    "\n",
    "Let's make sure that we have access to GPU. We can use `nvidia-smi` command to do that. In case of any problems navigate to `Edit` -> `Notebook settings` -> `Hardware accelerator`, set it to `GPU`, and then click `Save`."
   ]
  },
  {
   "cell_type": "code",
   "execution_count": null,
   "metadata": {
    "colab": {
     "base_uri": "https://localhost:8080/"
    },
    "id": "Y8cDtxLIBHgQ",
    "outputId": "95135e49-c7b1-4115-c4af-18f950485316"
   },
   "source": [
    "!nvidia-smi"
   ],
   "outputs": []
  },
  {
   "cell_type": "code",
   "execution_count": 44,
   "metadata": {
    "ExecuteTime": {
     "end_time": "2024-08-13T15:52:49.012803Z",
     "start_time": "2024-08-13T15:52:49.007005Z"
    },
    "colab": {
     "base_uri": "https://localhost:8080/"
    },
    "id": "CjpPg4mGKc1v",
    "outputId": "da87c813-6c0a-4902-c07d-29407ccb5ec4"
   },
   "source": [
    "import os\n",
    "HOME = os.getcwd()\n",
    "print(HOME)"
   ],
   "outputs": []
  },
  {
   "cell_type": "markdown",
   "metadata": {
    "id": "3C3EO_2zNChu"
   },
   "source": [
    "## Install YOLOv8\n",
    "\n",
    "⚠️ YOLOv8 is still under heavy development. Breaking changes are being introduced almost weekly. We strive to make our YOLOv8 notebooks work with the latest version of the library. Last tests took place on **03.01.2024** with version **YOLOv8.0.196**.\n",
    "\n",
    "If you notice that our notebook behaves incorrectly - especially if you experience errors that prevent you from going through the tutorial - don't hesitate! Let us know and open an [issue](https://github.com/roboflow/notebooks/issues) on the Roboflow Notebooks repository.\n",
    "\n",
    "YOLOv8 can be installed in two ways - from the source and via pip. This is because it is the first iteration of YOLO to have an official package."
   ]
  },
  {
   "cell_type": "code",
   "execution_count": 45,
   "metadata": {
    "ExecuteTime": {
     "end_time": "2024-08-13T15:52:56.756558Z",
     "start_time": "2024-08-13T15:52:53.635485Z"
    },
    "colab": {
     "base_uri": "https://localhost:8080/"
    },
    "id": "tdSMcABDNKW-",
    "outputId": "002d1741-8bb4-4be5-f489-1e17dc7ea9b1"
   },
   "source": [
    "# Pip install method (recommended)\n",
    "\n",
    "!pip install ultralytics==8.0.196\n",
    "\n",
    "from IPython import display\n",
    "display.clear_output()\n",
    "\n",
    "import ultralytics\n",
    "ultralytics.checks()"
   ],
   "outputs": []
  },
  {
   "cell_type": "code",
   "execution_count": null,
   "metadata": {
    "id": "iVvaIYEEPOty"
   },
   "source": [
    "# Git clone method (for development)\n",
    "\n",
    "# %cd {HOME}\n",
    "# !git clone github.com/ultralytics/ultralytics\n",
    "# %cd {HOME}/ultralytics\n",
    "# !pip install -e .\n",
    "\n",
    "# from IPython import display\n",
    "# display.clear_output()\n",
    "\n",
    "# import ultralytics\n",
    "# ultralytics.checks()"
   ],
   "outputs": []
  },
  {
   "cell_type": "code",
   "execution_count": 46,
   "metadata": {
    "ExecuteTime": {
     "end_time": "2024-08-13T15:53:00.450582Z",
     "start_time": "2024-08-13T15:53:00.447113Z"
    },
    "id": "VOEYrlBoP9-E"
   },
   "source": [
    "from ultralytics import YOLO\n",
    "\n",
    "from IPython.display import display, Image"
   ],
   "outputs": []
  },
  {
   "cell_type": "markdown",
   "metadata": {
    "id": "HnnZSm5OQfPQ"
   },
   "source": [
    "## CLI Basics"
   ]
  },
  {
   "cell_type": "markdown",
   "metadata": {
    "id": "K33S7zlkQku0"
   },
   "source": [
    "If you want to train, validate or run inference on models and don't need to make any modifications to the code, using YOLO command line interface is the easiest way to get started. Read more about CLI in [Ultralytics YOLO Docs](https://docs.ultralytics.com/usage/cli/).\n",
    "\n",
    "```\n",
    "yolo task=detect    mode=train    model=yolov8n.yaml      args...\n",
    "          classify       predict        yolov8n-cls.yaml  args...\n",
    "          segment        val            yolov8n-seg.yaml  args...\n",
    "                         export         yolov8n.pt        format=onnx  args...\n",
    "```"
   ]
  },
  {
   "cell_type": "markdown",
   "metadata": {
    "id": "s5RGYA6sPgEd"
   },
   "source": [
    "## Inference with Pre-trained COCO Model"
   ]
  },
  {
   "cell_type": "markdown",
   "metadata": {
    "id": "fT1qD4toTTw0"
   },
   "source": [
    "### 💻 CLI"
   ]
  },
  {
   "cell_type": "markdown",
   "metadata": {
    "id": "ZaE1kLS8R4CV"
   },
   "source": [
    "`yolo mode=predict` runs YOLOv8 inference on a variety of sources, downloading models automatically from the latest YOLOv8 release, and saving results to `runs/predict`."
   ]
  },
  {
   "cell_type": "code",
   "execution_count": null,
   "metadata": {
    "colab": {
     "base_uri": "https://localhost:8080/"
    },
    "id": "FDbMt_M6PiXb",
    "outputId": "3c2fd973-0d92-4f5c-dbc4-8800c7de87f6"
   },
   "source": [
    "%cd {HOME}\n",
    "!yolo task=detect mode=predict model=yolov8n.pt conf=0.25 source='https://media.roboflow.com/notebooks/examples/dog.jpeg' save=True"
   ],
   "outputs": []
  },
  {
   "cell_type": "code",
   "execution_count": null,
   "metadata": {
    "colab": {
     "base_uri": "https://localhost:8080/",
     "height": 635
    },
    "id": "LyopYpK1TQrB",
    "outputId": "287966c3-84c5-4bb4-8163-8911acb4d37a"
   },
   "source": [
    "%cd {HOME}\n",
    "Image(filename='runs/detect/predict/dog.jpeg', height=600)"
   ],
   "outputs": []
  },
  {
   "cell_type": "markdown",
   "metadata": {
    "id": "AFMBYQtMVL-B"
   },
   "source": [
    "### 🐍 Python SDK\n",
    "\n",
    "The simplest way of simply using YOLOv8 directly in a Python environment."
   ]
  },
  {
   "cell_type": "code",
   "execution_count": null,
   "metadata": {
    "colab": {
     "base_uri": "https://localhost:8080/"
    },
    "id": "Rx9NWF-sVN6Y",
    "outputId": "f8b8e341-ae74-4b33-92ea-0e0c10a63902"
   },
   "source": [
    "model = YOLO(f'{HOME}/yolov8n.pt')\n",
    "results = model.predict(source='https://media.roboflow.com/notebooks/examples/dog.jpeg', conf=0.25)"
   ],
   "outputs": []
  },
  {
   "cell_type": "code",
   "execution_count": null,
   "metadata": {
    "colab": {
     "base_uri": "https://localhost:8080/"
    },
    "id": "kAi4PvrItTCf",
    "outputId": "3a1a1c21-be10-437f-aa14-4995d5321789"
   },
   "source": [
    "results[0].boxes.xyxy"
   ],
   "outputs": []
  },
  {
   "cell_type": "code",
   "execution_count": null,
   "metadata": {
    "colab": {
     "base_uri": "https://localhost:8080/"
    },
    "id": "HqT2M01K1LUb",
    "outputId": "ac8d0988-8be7-4fec-c62b-2cd8fe9b5371"
   },
   "source": [
    "results[0].boxes.conf"
   ],
   "outputs": []
  },
  {
   "cell_type": "code",
   "execution_count": null,
   "metadata": {
    "colab": {
     "base_uri": "https://localhost:8080/"
    },
    "id": "gKIwJ5yw1PMb",
    "outputId": "ee27ea55-240f-43fd-d9a3-e8b8a73149fb"
   },
   "source": [
    "results[0].boxes.cls"
   ],
   "outputs": []
  },
  {
   "cell_type": "markdown",
   "metadata": {
    "id": "u2Xtaekw3271"
   },
   "source": [
    "## Roboflow Universe\n",
    "\n",
    "Need data for your project? Before spending time on annotating, check out Roboflow Universe, a repository of more than 110,000 open-source datasets that you can use in your projects. You'll find datasets containing everything from annotated cracks in concrete to plant images with disease annotations.\n",
    "\n",
    "\n",
    "[![Roboflow Universe](https://media.roboflow.com/notebooks/template/uni-banner-frame.png?ik-sdk-version=javascript-1.4.3&updatedAt=1672878480290)](https://universe.roboflow.com/)\n",
    "\n"
   ]
  },
  {
   "cell_type": "markdown",
   "metadata": {
    "id": "6JHICVjZbVKn"
   },
   "source": [
    "## Preparing a custom dataset\n",
    "\n",
    "Building a custom dataset can be a painful process. It might take dozens or even hundreds of hours to collect images, label them, and export them in the proper format. Fortunately, Roboflow makes this process as straightforward and fast as possible. Let me show you how!\n",
    "\n",
    "### Step 1: Creating project\n",
    "\n",
    "Before you start, you need to create a Roboflow [account](https://app.roboflow.com/login). Once you do that, you can create a new project in the Roboflow [dashboard](https://app.roboflow.com/). Keep in mind to choose the right project type. In our case, Object Detection.\n",
    "\n",
    "<div align=\"center\">\n",
    "  <img\n",
    "    width=\"640\"\n",
    "    src=\"https://media.roboflow.com/preparing-custom-dataset-example/creating-project.gif?ik-sdk-version=javascript-1.4.3&updatedAt=1672929799852\"\n",
    "  >\n",
    "</div>\n",
    "\n",
    "### Step 2: Uploading images\n",
    "\n",
    "Next, add the data to your newly created project. You can do it via API or through our [web interface](https://docs.roboflow.com/adding-data/object-detection).\n",
    "\n",
    "If you drag and drop a directory with a dataset in a supported format, the Roboflow dashboard will automatically read the images and annotations together.\n",
    "\n",
    "<div align=\"center\">\n",
    "  <img\n",
    "    width=\"640\"\n",
    "    src=\"https://media.roboflow.com/preparing-custom-dataset-example/uploading-images.gif?ik-sdk-version=javascript-1.4.3&updatedAt=1672929808290\"\n",
    "  >\n",
    "</div>\n",
    "\n",
    "### Step 3: Labeling\n",
    "\n",
    "If you only have images, you can label them in [Roboflow Annotate](https://docs.roboflow.com/annotate).\n",
    "\n",
    "<div align=\"center\">\n",
    "  <img\n",
    "    width=\"640\"\n",
    "    src=\"https://user-images.githubusercontent.com/26109316/210901980-04861efd-dfc0-4a01-9373-13a36b5e1df4.gif\"\n",
    "  >\n",
    "</div>\n",
    "\n",
    "### Step 4: Generate new dataset version\n",
    "\n",
    "Now that we have our images and annotations added, we can Generate a Dataset Version. When Generating a Version, you may elect to add preprocessing and augmentations. This step is completely optional, however, it can allow you to significantly improve the robustness of your model.\n",
    "\n",
    "<div align=\"center\">\n",
    "  <img\n",
    "    width=\"640\"\n",
    "    src=\"https://media.roboflow.com/preparing-custom-dataset-example/generate-new-version.gif?ik-sdk-version=javascript-1.4.3&updatedAt=1673003597834\"\n",
    "  >\n",
    "</div>\n",
    "\n",
    "### Step 5: Exporting dataset\n",
    "\n",
    "Once the dataset version is generated, we have a hosted dataset we can load directly into our notebook for easy training. Click `Export` and select the `YOLO v5 PyTorch` dataset format.\n",
    "\n",
    "<div align=\"center\">\n",
    "  <img\n",
    "    width=\"640\"\n",
    "    src=\"https://media.roboflow.com/preparing-custom-dataset-example/export.gif?ik-sdk-version=javascript-1.4.3&updatedAt=1672943313709\"\n",
    "  >\n",
    "</div>\n",
    "\n",
    "\n"
   ]
  },
  {
   "cell_type": "code",
   "execution_count": 47,
   "metadata": {
    "ExecuteTime": {
     "end_time": "2024-08-13T15:53:16.466270Z",
     "start_time": "2024-08-13T15:53:12.397419Z"
    },
    "colab": {
     "base_uri": "https://localhost:8080/"
    },
    "id": "BSd93ZJzZZKt",
    "outputId": "f5f44c10-3908-4d95-d5db-5862bd825387"
   },
   "source": [
    "!mkdir {HOME}/datasets\n",
    "%cd {HOME}/datasets\n",
    "\n",
    "!pip install roboflow --quiet\n",
    "\n",
    "from roboflow import Roboflow\n",
    "rf = Roboflow(api_key=\"0i8v0fEn4mty6Zt83ACV\")\n",
    "project = rf.workspace(\"myworkspace-bkrfh\").project(\"analiz-ssev8\")\n",
    "version = project.version(2)\n",
    "dataset = version.download(\"yolov8\")"
   ],
   "outputs": []
  },
  {
   "cell_type": "markdown",
   "metadata": {
    "id": "YUjFBKKqXa-u"
   },
   "source": [
    "## Custom Training"
   ]
  },
  {
   "cell_type": "code",
   "execution_count": null,
   "metadata": {
    "colab": {
     "base_uri": "https://localhost:8080/"
    },
    "id": "D2YkphuiaE7_",
    "outputId": "f989e4d8-f9e5-47ea-96e2-0062e0c0aff5"
   },
   "source": [
    "%cd {HOME}\n",
    "\n",
    "!yolo task=detect mode=train model=yolov8s.pt data={dataset.location}/data.yaml epochs=25 imgsz=800 plots=True"
   ],
   "outputs": []
  },
  {
   "cell_type": "markdown",
   "metadata": {},
   "source": [
    "Bu kod parçacığı, nesne algılama görevi için özel bir veri kümesi üzerinde bir YOLOv8 modelini eğitmek için kullanılır. Eğitim, 800x800 piksele yeniden boyutlandırılmış görüntüler üzerinde 25 epok boyunca çalışacaktır. Komut, modelin nasıl öğrendiğini görselleştirmeye yardımcı olmak için eğitim sırasında otomatik olarak grafikler oluşturacak şekilde ayarlanmıştır."
   ]
  },
  {
   "cell_type": "code",
   "execution_count": null,
   "metadata": {
    "colab": {
     "base_uri": "https://localhost:8080/"
    },
    "id": "1MScstfHhArr",
    "outputId": "05bd1c5d-a582-45f8-cd1b-7accf6a34809"
   },
   "source": [
    "!ls {HOME}/runs/detect/train/"
   ],
   "outputs": []
  },
  {
   "cell_type": "markdown",
   "metadata": {},
   "source": [
    "**args.yaml**: Genellikle eğitim sürecinde kullanılan model yapılandırması, öğrenme oranı, yığın boyutu vb. gibi argümanları veya hiperparametreleri depolayan bir YAML dosyası.\n",
    "\n",
    "**confusion_matrix_normalized.png ve confusion_matrix.png**: Bunlar eğitim sırasında oluşturulan karışıklık matrislerini temsil eden görüntülerdir (PNG formatında).\n",
    "\n",
    "**Confusion Matrix:(Karışıklık Matrisi)**: Gerçek ve tahmin edilen sınıflandırmaları göstererek bir sınıflandırma algoritmasının performansını değerlendirmek için kullanılan bir tablo.\n",
    "\n",
    "**Normalized:** Normalleştirilmiş karışıklık matrisi, ham sayılar yerine tahminlerin oranlarını gösterir.\n",
    "\n",
    "**events.out.tfevents:** Bu, eğitim sırasında ölçümleri görselleştirmek için bir araç olan TensorBoard tarafından oluşturulan bir dosyadır. Dosya skaler değerler, histogramlar, görüntüler ve daha fazlası gibi olay verilerini içerir.\n",
    "\n",
    "\n",
    "**F1_curve.png:** Eğitim sırasında F1 skoru eğrisini temsil eden bir görüntü.  \n",
    "\n",
    "**F1 Score(F1 Puanı)**: Kesinlik ve geri çağırmayı dengeleyen, özellikle dengesiz veri kümelerinde yararlı olan bir metrik.\n",
    "\n",
    "**labels_correlogram.jpg and labels.jpg:** \n",
    "\n",
    "**Labels Correlagram:**(Etiketler Korelagramı): Farklı etiketler veya sınıflar arasındaki korelasyonu gösteren görsel bir temsil.\n",
    "\n",
    "**Labels.jpg:** Büyük olasılıkla veri kümesinde bulunan etiketlerin görselleştirilmesi.\n",
    "\n",
    "**P_curve.png, PR_curve.png, R_curve.png:**\n",
    "\n",
    "**P_curve.png** Eğitim sırasında hassasiyet eğrisi.\n",
    "\n",
    "**PR_curve.png:** Precision-Recall curve(Hassasiyet-Geri Çağırma eğrisi), farklı eşikler için hassasiyet ve geri çağırma arasındaki değiş tokuşu gösteren grafiksel bir gösterimdir.\n",
    "\n",
    "**R_curve.png:** Eğitim sırasında hatırlama eğrisi.\n",
    "\n",
    "**results.csv and results.png:** \n",
    "\n",
    "**results.csv:** Doğruluk, kesinlik, geri çağırma gibi metrikler de dahil olmak üzere eğitim sürecinin ayrıntılı sonuçlarını içeren bir CSV dosyası.\n",
    "\n",
    "**results.png:** Eğitim sonuçlarının görsel bir temsili (muhtemelen bir özet).\n",
    "\n",
    "**train_batch0.jpg, train_batch1.jpg, train_batch2.jpg, etc.:**\n",
    "\n",
    "Bunlar eğitim gruplarından görüntülerdir. Muhtemelen modelin eğitim sırasında bu görüntülerdeki nesneleri nasıl tahmin ettiğine dair örnekler gösterirler.\n",
    "\n",
    "**val_batch0_labels.jpg and val_batch0_pred.jpg:**\n",
    "\n",
    "**val_batch0_labels.jpg:** Bir doğrulama grubu için temel gerçek etiketlerini gösteren bir görüntü.\n",
    "\n",
    "**val_batch0_pred.jpg:** Aynı doğrulama grubu için modelin tahminlerini gösteren bir görüntü.\n",
    "\n",
    "**weights:** Bu muhtemelen eğitilmiş model ağırlıklarını içeren bir dizindir. Bunlar, eğitimden sonra modelin öğrenilen parametrelerini saklayan dosyalardır.\n",
    "\n",
    "**Özet:**  Bu dizin, performans ölçümleri (eğriler, karışıklık matrisleri), eğitim sürecinin görselleştirmeleri ve TensorBoard tarafından oluşturulan bazı dosyalar dahil olmak üzere bir YOLO modelinin eğitiminden elde edilen çeşitli çıktıları içerir. Dizindeki görüntüler modelin ne kadar iyi performans gösterdiğini görselleştirmeye yardımcı olurken, args.yaml ve results.csv dosyaları ayrıntılı yapılandırma ve sonuç verileri sağlar.\n"
   ]
  },
  {
   "cell_type": "code",
   "execution_count": null,
   "metadata": {
    "colab": {
     "base_uri": "https://localhost:8080/",
     "height": 485
    },
    "id": "_J35i8Ofhjxa",
    "outputId": "2eab8ebe-e3fe-496f-bbd7-e261e0b43021"
   },
   "source": [
    "%cd {HOME}\n",
    "Image(filename=f'{HOME}/runs/detect/train/confusion_matrix.png', width=600)"
   ],
   "outputs": []
  },
  {
   "cell_type": "markdown",
   "metadata": {},
   "source": [
    "**Image(filename=f'{HOME}/runs/detect/train/confusion_matrix.png', width=600):**\n",
    "\n",
    "Bu satır, Jupyter Notebook'ta bir görüntü görüntülemek için IPython.display'deki Image işlevini kullanır.\n",
    "\n",
    "**filename=f'{HOME}/runs/detect/train/confusion_matrix.png': **\n",
    "\n",
    "Eğitim sırasında oluşturulan karışıklık matrisi görüntüsüne giden yolu belirtir.\n",
    "\n",
    "**width=600** : Görüntülenen görüntünün genişliğini 600 piksel olarak ayarlar, bu da görüntünün not defterinde görüntülenmek üzere uygun şekilde ölçeklendirilmesini sağlar.\n",
    "\n",
    "\n",
    "**Confusion Matrix Interpretation:**(Karışıklık Matrisi Yorumu:)\n",
    "Karışıklık matrisi, tipik olarak ikili sınıflandırma problemlerinde bir modelin performansını özetlemek için kullanılan 2x2'lik bir tablodur.\n",
    "\n",
    "**Axes:**\n",
    "**horizontal axis (True)** \n",
    "Yatay eksen (Gerçek) gerçek etiketleri (zemin gerçeği) temsil eder.\n",
    "\n",
    "**vertical axis (Predicted)**\n",
    "Dikey eksen (Tahmin Edilen) model tarafından tahmin edilen etiketleri temsil eder.\n",
    "\n",
    "Etiketlerin \"insan\" ve \"arka plan\" olması, modelin nesneleri insan ya da insan olmayan (arka plan) olarak sınıflandırdığını göstermektedir.\n",
    "\n",
    "\n",
    "**Matrix Values:**\n",
    "\n",
    "**Top-left (22):** Sol üst (22): Modelin \"insan \"ı \"insan\" olarak doğru tahmin ettiği doğru pozitiflerin (TP) sayısını temsil eder.\n",
    "\n",
    "**Top-right (18):** Modelin \"insan \"ı \"arka plan\" olarak yanlış tahmin ettiği yanlış negatiflerin (FN) sayısını temsil eder.\n",
    "\n",
    "**Bottom-left (5):** Sol alt (5): Modelin \"arka plan \"ı \"insan\" olarak yanlış tahmin ettiği yanlış pozitiflerin (FP) sayısını temsil eder.\n",
    "\n",
    "**Bottom-right (empty):** Modelin \"arka plan \"ı \"arka plan\" olarak doğru tahmin ettiği gerçek negatifleri (TN) temsil eder. Ancak, bu matriste hiçbir gerçek negatif görünmemektedir, bu da tüm gerçek arka planların arka plan olarak doğru şekilde tahmin edildiğini veya değerlendirmede bulunmadıklarını gösterir.\n",
    "\n",
    "**Özet:**\n",
    "\n",
    "**Accuracy Insight** :(Doğruluk İçgörüsü:)\n",
    "Karışıklık matrisi, modelin 27 kişiden 22'sini doğru tanımladığını göstermektedir (22 TP + 5 FP), bu da makul bir performansa işaret etmekle birlikte iyileştirme için bir miktar alan olduğunu göstermektedir.\n",
    "\n",
    "Model 18 \"insan\" örneğini \"arka plan\" olarak yanlış sınıflandırmıştır, bu da belirli durumlarda insanları ayırt etmekte zorlanabileceğini göstermektedir.\n",
    "\n",
    "\n",
    "**Further Analysis** (Daha Fazla Analiz)\n",
    "\n",
    "Modeli geliştirmek istiyorsanız, epok sayısını artırmayı, öğrenme oranını ayarlamayı veya modelin insanlar ile arka plan öğelerini daha iyi ayırt etmesine yardımcı olmak için daha çeşitli eğitim verileri sağlamayı düşünün."
   ]
  },
  {
   "cell_type": "code",
   "execution_count": null,
   "metadata": {
    "colab": {
     "base_uri": "https://localhost:8080/",
     "height": 335
    },
    "id": "A-urTWUkhRmn",
    "outputId": "23652185-3b4a-4789-e6cc-b89c0361ddc6"
   },
   "source": [
    "%cd {HOME}\n",
    "Image(filename=f'{HOME}/runs/detect/train/results.png', width=600)"
   ],
   "outputs": []
  },
  {
   "cell_type": "markdown",
   "metadata": {},
   "source": [
    "Görüntü, bir Jupyter Notebook'ta gösterildiği gibi 25 epok boyunca çizilen bir dizi eğitim ve doğrulama ölçümünü göstermektedir. Bu görüntüyü oluşturan kod öncekilere benzer, ancak farklı bir görselleştirme kümesi gösterir.\n",
    "\n",
    "**Plot Descriptions:**\n",
    "\n",
    "**1-train/box_loss:**\n",
    "\n",
    "**Box Loss (Training):** Bu, tahmin edilen sınırlayıcı kutuların temel gerçek kutularıyla ne kadar iyi eşleştiğini ölçer. Daha düşük bir kayıp, sınırlayıcı kutuları tahmin etmede daha iyi doğruluk olduğunu gösterir.\n",
    "\n",
    "**2-train/cls_loss:** \n",
    "\n",
    "**Classification Loss (Training):** (Sınıflandırma Kaybı (Eğitim)): Bu, modelin nesneleri doğru kategorilere ne kadar iyi sınıflandırdığını ölçer. Daha düşük bir kayıp, daha iyi sınıflandırma doğruluğunu gösterir.\n",
    "\n",
    "**3-train/dfl_loss:**\n",
    "\n",
    "**Distribution Focal Loss (Training):** Bu, tahmin edilen sınırlayıcı kutuları zemin gerçeğiyle daha doğru bir şekilde hizalamaya odaklanan nesne algılama modellerinde kullanılan özel bir kayıptır.\n",
    "\n",
    "**4-metrics/precision(B):** \n",
    "\n",
    "**Precision Metric:**(Hassasiyet Metriği): Hassasiyet, tüm pozitif tahminler içinde doğru pozitif tespitlerin yüzdesini ölçer. Daha yüksek hassasiyet, daha az yanlış pozitif olduğunu gösterir.\n",
    "\n",
    "**5-metrics/recall(B):** \n",
    "\n",
    "**Recall Metric:**  (Geri Çağırma Metriği:) Geri çağırma, veri kümesindeki tüm gerçek pozitiflerin içindeki gerçek pozitiflerin yüzdesini ölçer. Daha yüksek geri çağırma, daha az yanlış negatif olduğunu gösterir.\n",
    "\n",
    "**6-val/box_loss:** \n",
    "\n",
    "**Box Loss (Validation):** (Kutu Kaybı (Doğrulama)): Eğitim kutusu kaybına benzer, ancak bu doğrulama kümesi üzerinde ölçülür. Modelin görülmeyen verilere iyi genelleme yapıp yapmadığını belirlemeye yardımcı olur.\n",
    "\n",
    "**7-val/cls_loss:** \n",
    "\n",
    "**Classification Loss (Validation):** Sınıflandırma Kaybı (Doğrulama): Bu, modelin yeni verilere ne kadar iyi genelleme yaptığını gösteren doğrulama setindeki sınıflandırma doğruluğunu ölçer.\n",
    "\n",
    "**8-val/dfl_loss:** \n",
    "\n",
    "**Distribution Focal Loss (Validation):** (Dağıtım Odak Kaybı (Doğrulama)|) : Bu, modelin doğrulama kümesindeki sınırlayıcı kutuları ne kadar iyi tahmin ettiğini ölçer.\n",
    "\n",
    "**9-metrics/mAP50(B):**  \n",
    "\n",
    "**Mean Average Precision at IoU=0.50 (B):**  Bu, nesne algılamada kesinlik ve geri çağırmayı birleştiren yaygın bir metriktir. IoU=0,50 değeri daha yumuşaktır ve tahmin edilen kutu zemin gerçeğiyle %50 veya daha fazla örtüşüyorsa bir algılamayı doğru kabul eder.  \n",
    "\n",
    "**10-metrics/mAP50-95(B)**  \n",
    "\n",
    "**Mean Average Precision at IoU=0.50-0.95 (B):** IoU=0,50-0,95'te Ortalama Ortalama Hassasiyet (B): Bu metrik, 0,50 ila 0,95 arasındaki bir dizi IoU eşiğini dikkate alarak daha katıdır. Modelin farklı kutu örtüşme doğruluğu seviyelerindeki performansının daha kapsamlı bir görünümünü verir.\n",
    "\n",
    "**Summary **\n",
    "\n",
    "**Training Losses** Eğitim Kayıpları: Eğitim için kayıp eğrileri (box_loss, cls_loss, dfl_loss) genellikle azalmaktadır, bu da modelin eğitim sürecinde öğrendiğini ve tahminlerini geliştirdiğini göstermektedir.\n",
    "\n",
    "**Validation Losses:**(Doğrulama Kayıpları): Doğrulama kaybı eğrileri, modelin görülmeyen verilere ne kadar iyi genelleme yaptığına dair fikir verir. İdeal olarak, bunlar eğitim kayıplarıyla benzer bir düşüş eğilimi izlemelidir, ancak herhangi bir sapma (örneğin, artan doğrulama kaybı) aşırı uyuma işaret edebilir.\n",
    "\n",
    "**Precision and Recall:** (Kesinlik ve Geri Çağırma): Bu metrikler, eğitim sırasında tipik olan bazı değişkenlikler gösterir. Modelin nesneleri doğru tespit etme becerisini geliştirdiğini gösteren genel bir artış eğilimi arzu edilir.\n",
    "\n",
    "**mAP Metrics:** mAP Metrikleri: mAP metrikleri, modelin çeşitli kesişme noktası eşiklerinde (IoU) gösterdiği performansın bir özetini sunar. Bunlar ideal olarak zaman içinde artmalı ve daha iyi tespit doğruluğu göstermelidir.\n",
    "\n",
    "Sağlanan grafikler, modelin eğitim ve doğrulama sırasında ne kadar iyi performans gösterdiğine dair kapsamlı bir genel bakış sunar. Azalan kayıplar ve artan hassasiyet/hatırlama gibi genel eğilimler, etkili bir şekilde öğrenen bir modelin işaretleridir."
   ]
  },
  {
   "cell_type": "code",
   "execution_count": null,
   "metadata": {
    "colab": {
     "base_uri": "https://localhost:8080/",
     "height": 635
    },
    "id": "HI4nADCCj3F5",
    "outputId": "418ba99c-dda3-4177-e6d3-636c1e208070"
   },
   "source": [
    "%cd {HOME}\n",
    "Image(filename=f'{HOME}/runs/detect/train/val_batch0_pred.jpg', width=600)"
   ],
   "outputs": []
  },
  {
   "cell_type": "markdown",
   "metadata": {},
   "source": [
    "## **Image(filename=f'{HOME}/runs/detect/train/val_batch0_pred.jpg', width=600):** \n",
    "Bu satır, belirtilen dizindeki val_batch0_pred.jpg görüntüsünü 600 piksel genişliğinde görüntüler.\n",
    "\n",
    "## **Image Analysis:**\n",
    "\n",
    "Görüntü, modelin doğrulama grubundaki çeşitli karelerde (veya segmentlerde) insanları tespit etmeye yönelik tahminlerini göstermektedir. Tahminler, tespit edilen her bir kişinin yanında \"insan\" etiketi ve bir güven puanı (0 ile 1 arasında değişen) bulunan kırmızı sınırlayıcı kutularla temsil edilmektedir.\n",
    "\n",
    "## **Bounding Boxes:** (Sınırlayıcı Kutular:)\n",
    "Tespit edilen nesnelerin etrafındaki kırmızı dikdörtgenler, modelin \"insan\" nesnelerini tanımladığı alanları göstermektedir. Bu kutular model tarafından yapılan tahminlerdir.\n",
    "\n",
    "## **Confidence Scores:**(Güven Puanları:)\n",
    "\n",
    "Human (\"İnsan\") etiketlerinin yanındaki sayılar (örn. 0,4, 0,6, 0,7) modelin tahminlerinin güven seviyelerini temsil etmektedir. Daha yüksek bir puan, modelin tespit edilen nesnenin gerçekten bir insan olduğundan daha emin olduğunu gösterir.\n",
    "\n",
    "## **Interpretation:**(Yorum) \n",
    "\n",
    "**Model Performance:** \n",
    "\n",
    "Model, sınırlayıcı kutular ve ilgili güven puanları ile gösterildiği gibi, karelerde birden fazla insanı başarıyla tespit etmiştir. \n",
    "\n",
    "Bazı güven puanları nispeten düşüktür (örn. 0,3, 0,4), bu da modelin bazı tespitlerinden emin olmadığını gösterebilir. Bunun nedeni oklüzyon, düşük görüntü kalitesi veya zorlu açılar gibi faktörler olabilir.\n",
    "\n",
    "**Possible Improvements:**(Olasi Iyilestirmeler)\n",
    "\n",
    "**Increase Confidence Threshold:** Güven Eşiğini Artırın:  Yanlış pozitifleri azaltmak için belirli bir güven seviyesinin altındaki tahminleri filtrelemeyi düşünebilirsiniz.\n",
    "\n",
    "**Further Training:**:  Daha Fazla Eğitim: Birçok tahmin düşük güven gösteriyorsa, daha çeşitli verilerle ek eğitim, modelin doğruluğunu ve güvenini artırmaya yardımcı olabilir.\n",
    "\n",
    "**Adjust Model Parameters** Model Parametrelerini Ayarlayın: Öğrenme oranı veya yığın boyutu gibi hiperparametrelerin ayarlanması da tespit doğruluğunu artırabilir.\n",
    "\n",
    "**Özet** : Sağlanan görüntü, modelin genel olarak doğrulama görüntülerindeki insanları tespit edebildiğini, ancak farklı güven derecelerine sahip olduğunu göstermektedir. Bu çıktı, modelin görünmeyen veriler üzerindeki performansını değerlendirmek ve modelin daha fazla iyileştirmeye ihtiyaç duyabileceği alanları belirlemek için kullanışlıdır."
   ]
  },
  {
   "cell_type": "markdown",
   "metadata": {
    "id": "6ODk1VTlevxn"
   },
   "source": [
    "## Validate Custom Model"
   ]
  },
  {
   "cell_type": "code",
   "execution_count": null,
   "metadata": {
    "colab": {
     "base_uri": "https://localhost:8080/"
    },
    "id": "YpyuwrNlXc1P",
    "outputId": "6920587d-fd6f-499c-c6b8-4d2974e48531"
   },
   "source": [
    "%cd {HOME}\n",
    "\n",
    "!yolo task=detect mode=val model={HOME}/runs/detect/train/weights/best.pt data={dataset.location}/data.yaml"
   ],
   "outputs": []
  },
  {
   "cell_type": "markdown",
   "metadata": {},
   "source": [
    "**!yolo task=detect mode=val model={HOME}/runs/detect/train/weights/best.pt data={dataset.location}/data.yaml:**\n",
    "\n",
    "**!yolo**: YOLO komut satırı arayüzünü çağırır.\n",
    "\n",
    "**task=detect**: Görevin nesne algılama olduğunu belirtir.\n",
    "\n",
    "**mode=val**: Modun doğrulama olduğunu, yani modelin bir doğrulama veri kümesi üzerinde değerlendirileceğini belirtir.\n",
    "\n",
    "**model={HOME}/runs/detect/train/weights/best.pt:** Eğitim süreci sırasında kaydedilen eğitilmiş modelin ağırlıklar dosyasının (best.pt) yolunu belirtir. Bu model doğrulama için kullanılacaktır.\n",
    "\n",
    "**data={dataset.location}/data.yaml**  Doğrulama veri kümesi hakkında bilgi içeren veri yapılandırma dosyasının (data.yaml) yolunu belirtir.\n",
    "\n",
    "**Output Analysis:**(Cikti Analizi)\n",
    "\n",
    "**Ultralytics YOLOv8.0.196:** Kullanılan YOLOv8 sürümü.\n",
    "\n",
    "**Environment Details:** \n",
    "\n",
    "**Python-3.10.12 torch-2.3.1+cu121 CUDA:0 (Tesla T4, 15102MiB):** Bu satır Python ortamı, PyTorch sürümü ve doğrulama için kullanılan CUDA özellikli GPU (Tesla T4) hakkında ayrıntılar sağlar.\n",
    "\n",
    "**Model Summary:(Model Ozeti)168 layers, 11125971 parameters, 0 gradients, 28.4 GFLOPs:** \n",
    "\n",
    "168 katman, 11125971 parametreler, 0 gradyan, 28,4 GFLOPs: Bu, katman sayısı, toplam parametreler ve GFLOP (Giga Kayan Nokta İşlemleri) cinsinden hesaplama karmaşıklığı dahil olmak üzere YOLOv8 modelinin mimarisini özetlemektedir.\n",
    "\n",
    "\n",
    "**Validation Process:**(Dogrulama Sureci) :\n",
    "\n",
    "**Scanning /content/datasets/analiz-2/valid/labels.cache** Model, belirtilen yolda bulunan doğrulama veri kümesini tarıyor.\n",
    "\n",
    "**Images: 3, Instances: 27:**  Görüntüler: 3, Örnekler: 27: Doğrulama veri kümesinin 3 görüntü ve algılanacak nesnelerin 27 örneğini içerdiğini gösterir.\n",
    "\n",
    "**Box(P R):**  Doğrulama sonuçları Hassasiyet (P), Geri Çağırma (R), mAP50 ve mAP50-95 metriklerini içerir:\n",
    "\n",
    "       **Precision (P) ** Kesinlik (P): 0,63; bu da tespit edilen nesnelerin %63'ünün gerçek pozitif olduğunu göstermektedir.\n",
    "       \n",
    "       **Recall (R): ** Hatırlama (R): 0,63, yani model veri kümesindeki gerçek nesnelerin %63'ünü doğru bir şekilde tanımlamıştır.\n",
    "       \n",
    "       **mAP50: ** 0.488, 0.50'lik Birlik Üzerinde Kesişme (IoU) eşiğinde ortalama Ortalama Hassasiyeti temsil eder.\n",
    "       \n",
    "       **mAP50-95** 0.145, 0.50 ila 0.95 arasında birden fazla IoU eşiği arasında hesaplanan mAP'dir. Bu metrik, modelin performansının daha kapsamlı bir değerlendirmesini verir.\n",
    "       \n",
    "       \n",
    "       **Speed:** \n",
    "       \n",
    "       **0.4ms preprocess, 29.5ms inference, 0.0ms loss, 201.6ms postprocess per image: ** Görüntü başına 0,4 ms ön işlem, 29,5 ms çıkarım, 0,0 ms kayıp, 201,6 ms son işlem: Bunlar, ön işleme, çıkarım ve son işleme dahil olmak üzere doğrulama sürecinin her aşaması için zamanlamalardır.\n",
    "       \n",
    "       \n",
    "       **Results:** \n",
    "       \n",
    "       **Results saved to runs/detect/val** Results saved to runs/detect/val: Metrikler ve görselleştirmeler de dahil olmak üzere doğrulama sonuçları daha sonra incelenmek üzere belirtilen dizine kaydedilir.\n",
    "       \n",
    "       **Documentation:** YOLO'daki doğrulama modları hakkında daha fazla bilgi edinmek için bir bağlantı verilmiştir: https://docs.ultralytics.com/modes/val.\n",
    "       \n",
    "## Özet:\n",
    "\n",
    "Bu dizüstü bilgisayar hücresi, küçük bir doğrulama veri kümesi (27 örnekli 3 görüntü) kullanarak bir YOLOv8 modelini doğrulamaktadır. Modelin performansı hassasiyet, geri çağırma ve mAP değerleri gibi temel metriklerle özetlenmiştir.\n",
    "\n",
    "Sonuçlar, mAP değerlerinin gösterdiği gibi orta düzeyde performans ile dengeli bir hassasiyet ve geri çağırma göstermektedir. Bu metrikler, modelin görülmeyen verilere ne kadar iyi genelleme yaptığını değerlendirmek için kullanılabilir.\n",
    "\n",
    "Süreç ayrıca, modelin gerçek zamanlı uygulamalardaki verimliliğini değerlendirirken önemli olabilecek hız ölçümlerini de kaydeder.\n",
    "\n",
    "\n",
    "       \n"
   ]
  },
  {
   "cell_type": "markdown",
   "metadata": {
    "id": "i4eASbcWkQBq"
   },
   "source": [
    "## Inference with Custom Model"
   ]
  },
  {
   "cell_type": "code",
   "execution_count": null,
   "metadata": {
    "colab": {
     "base_uri": "https://localhost:8080/"
    },
    "id": "Wjc1ctZykYuf",
    "outputId": "f880da3d-f821-44a9-cbc4-6d0e0f44d9a2"
   },
   "source": [
    "%cd {HOME}\n",
    "!yolo task=detect mode=predict model={HOME}/runs/detect/train/weights/best.pt conf=0.25 source={dataset.location}/test/images save=True"
   ],
   "outputs": []
  },
  {
   "cell_type": "markdown",
   "metadata": {},
   "source": [
    "**OZET:** \n",
    "\n",
    "Bu dizüstü bilgisayar hücresi, bir test görüntüsü üzerinde özel bir YOLOv8 modeli kullanarak çıkarım yapmaktadır. Model görüntüdeki 14 insanı başarıyla tespit etti ve süreç bazı ön işleme, çıkarım ve son işleme adımlarını içeriyordu. Tespit edilen nesneler ve ilgili sınırlayıcı kutular da dahil olmak üzere sonuçlar daha fazla inceleme için kaydedilmiştir."
   ]
  },
  {
   "cell_type": "markdown",
   "metadata": {
    "id": "mEYIo95n-I0S"
   },
   "source": [
    "**NOTE:** Let's take a look at few results."
   ]
  },
  {
   "cell_type": "code",
   "execution_count": null,
   "metadata": {
    "colab": {
     "base_uri": "https://localhost:8080/",
     "height": 654
    },
    "id": "jbVjEtPAkz3j",
    "outputId": "089580a8-dd30-49f7-f18d-891478e0e362"
   },
   "source": [
    "import glob\n",
    "from IPython.display import Image, display\n",
    "\n",
    "# Define the base path where the folders are located\n",
    "base_path = '/content/runs/detect/'\n",
    "\n",
    "# List all directories that start with 'predict' in the base path\n",
    "subfolders = [os.path.join(base_path, d) for d in os.listdir(base_path)\n",
    "              if os.path.isdir(os.path.join(base_path, d)) and d.startswith('predict')]\n",
    "\n",
    "# Find the latest folder by modification time\n",
    "latest_folder = max(subfolders, key=os.path.getmtime)\n",
    "\n",
    "image_paths = glob.glob(f'{latest_folder}/*.jpg')[:3]\n",
    "\n",
    "# Display each image\n",
    "for image_path in image_paths:\n",
    "    display(Image(filename=image_path, width=600))\n",
    "    print(\"\\n\")"
   ],
   "outputs": []
  },
  {
   "cell_type": "markdown",
   "metadata": {},
   "source": [
    "Sağlanan  görüntü, belirli bir dizindeki görüntüleri görüntülemek için Python kodunun kullanıldığı ve muhtemelen bir nesne algılama modelinin sonuçlarını gösteren bir Jupyter Notebook hücresini göstermektedir. Kodun altında, tespit edilen nesnelerin (insanlar) sınırlayıcı kutular ve güven puanları ile açıklandığı bir görüntü var.\n",
    "\n",
    "\n",
    "**1-import glob and from IPython.display import Image, display:** \n",
    "\n",
    "**glob** Belirli bir desenle eşleşen dosyaları aramanıza olanak tanıyan dosya deseni eşleştirmesi için kullanılır.\n",
    "\n",
    "**Image, display** Bunlar, görüntüleri doğrudan Jupyter Notebook içinde görüntülemek için kullanılır.\n",
    "\n",
    "\n",
    "**2-Base Path Definition:** \n",
    "\n",
    "**base_path = '/content/runs/detect/'** Modelin çıktı klasörlerinin bulunduğu dizini tanımlar.\n",
    "\n",
    "**3-List Directories:** \n",
    "\n",
    "**subfolders = [os.path.join(base_path, d) for d in os.listdir(base_path) if os.path.isdir(os.path.join(base_path, d)) and d.startswith('predict')]:**\n",
    "Bu satır, temel yolda \"predict\" adıyla başlayan alt klasörlerin bir listesini oluşturur.\n",
    "\n",
    "**4-Find the Latest Folder:** \n",
    "\n",
    "**latest_folder = max(subfolders, key=os.path.getmtime)** \"Tahmin\" klasörleri listesinden en son değiştirilen klasörü bulur.\n",
    "\n",
    "**5-Image Paths:** \n",
    "\n",
    "**image_paths = glob.glob(f'{latest_folder}/*.jpg')[:3]:** En son klasördeki ilk üç .jpg görüntüsünün yollarını alır.\n",
    "\n",
    "**6-Display Images:**\n",
    "\n",
    "**for image_path in image_paths::**  Görüntü yolları listesi üzerinde yineleme yapar.\n",
    "\n",
    "**display(Image(filename=image_path, width=600)):**  Not defterindeki her görüntüyü 600 piksel genişliğe ölçeklendirilmiş olarak görüntüler.\n",
    "\n",
    "**print(\"\\n\")**  Daha iyi okunabilirlik için görüntülenen görüntülerin arasına yeni satır ekler.\n",
    "\n",
    "\n",
    "## Image Analysis:\n",
    "\n",
    "Kodun altında görüntülenen görüntü, bir sahnede birden fazla insanın tespit edildiği bir nesne algılama modelinden elde edilen çıktıyı göstermektedir.\n",
    "\n",
    "**Bounding Boxes** Kırmızı dikdörtgenler modelin insanları tespit ettiği alanları vurgulamaktadır.\n",
    "\n",
    "**Confidence Scores**(Güven Puanları)\n",
    "\"İnsan\" etiketlerinin yanındaki sayılar (örneğin, 0,61, 0,36, 0,56) modelin her bir tespit için güven düzeyini temsil eder. Daha yüksek bir puan, modelin tespit edilen nesnenin gerçekten bir insan olduğundan daha emin olduğu anlamına gelir.\n",
    "\n",
    "**Özet: Bu kod parçacığı, en son nesne algılama sonuçlarını bulma ve görüntüleme işlemini otomatikleştirir. Görüntülenen görüntü, modelin karedeki birden fazla insanı değişen güven düzeyleriyle başarıyla tespit ettiğini doğrular.**\n"
   ]
  },
  {
   "cell_type": "markdown",
   "metadata": {
    "id": "j0tsVilOCPyq"
   },
   "source": [
    "## Deploy model on Roboflow\n",
    "\n",
    "Once you have finished training your YOLOv8 model, you’ll have a set of trained weights ready for use. These weights will be in the `/runs/detect/train/weights/best.pt` folder of your project. You can upload your model weights to Roboflow Deploy to use your trained weights on our infinitely scalable infrastructure.\n",
    "\n",
    "The `.deploy()` function in the [Roboflow pip package](https://docs.roboflow.com/python) now supports uploading YOLOv8 weights.\n",
    "\n",
    "To upload model weights, add the following code to the “Inference with Custom Model” section in the aforementioned notebook:"
   ]
  },
  {
   "cell_type": "code",
   "execution_count": 48,
   "metadata": {
    "ExecuteTime": {
     "end_time": "2024-08-13T15:53:42.840915Z",
     "start_time": "2024-08-13T15:53:41.658580Z"
    },
    "colab": {
     "base_uri": "https://localhost:8080/"
    },
    "id": "6EhBAJ2gCPZh",
    "outputId": "0c064d40-7a1e-4697-fcab-afab40ba50b4"
   },
   "source": [
    "project.version(dataset.version).deploy(model_type=\"yolov8\", model_path=f\"{HOME}/runs/detect/train/\")"
   ],
   "outputs": []
  },
  {
   "cell_type": "code",
   "execution_count": null,
   "metadata": {
    "id": "q5kOhjkmcV1l"
   },
   "source": [
    "#While your deployment is processing, checkout the deployment docs to take your model to most destinations https://docs.roboflow.com/inference"
   ],
   "outputs": []
  },
  {
   "cell_type": "code",
   "execution_count": null,
   "metadata": {
    "id": "I4bpUIibcV1l"
   },
   "source": [
    "#Run inference on your model on a persistant, auto-scaling, cloud API\n",
    "\n",
    "#load model\n",
    "model = project.version(dataset.version).model\n",
    "\n",
    "#choose random test set image\n",
    "import os, random\n",
    "test_set_loc = dataset.location + \"/test/images/\"\n",
    "random_test_image = random.choice(os.listdir(test_set_loc))\n",
    "print(\"running inference on \" + random_test_image)\n",
    "\n",
    "pred = model.predict(test_set_loc + random_test_image, confidence=40, overlap=30).json()\n",
    "pred"
   ],
   "outputs": []
  },
  {
   "cell_type": "markdown",
   "metadata": {
    "id": "ii6oacluX2Fn"
   },
   "source": [
    "# Deploy Your Model to the Edge\n",
    "\n",
    "In addition to using the Roboflow hosted API for deployment, you can use [Roboflow Inference](https://inference.roboflow.com), an open source inference solution that has powered millions of API calls in production environments. Inference works with CPU and GPU, giving you immediate access to a range of devices, from the NVIDIA Jetson to TRT-compatible devices to ARM CPU devices.\n",
    "\n",
    "With Roboflow Inference, you can self-host and deploy your model on-device. You can deploy applications using the [Inference Docker containers](https://inference.roboflow.com/quickstart/docker/) or the pip package.\n",
    "\n",
    "For example, to install Inference on a device with an NVIDIA GPU, we can use:\n",
    "\n",
    "```\n",
    "docker pull roboflow/roboflow-inference-server-gpu\n",
    "```\n",
    "\n",
    "Then we can run inference via HTTP:\n",
    "\n",
    "```python\n",
    "import requests\n",
    "\n",
    "workspace_id = \"\"\n",
    "model_id = \"\"\n",
    "image_url = \"\"\n",
    "confidence = 0.75\n",
    "api_key = \"\"\n",
    "\n",
    "infer_payload = {\n",
    "    \"image\": {\n",
    "        \"type\": \"url\",\n",
    "        \"value\": image_url,\n",
    "    },\n",
    "    \"confidence\": confidence,\n",
    "    \"iou_threshold\": iou_thresh,\n",
    "    \"api_key\": api_key,\n",
    "}\n",
    "res = requests.post(\n",
    "    f\"http://localhost:9001/{workspace_id}/{model_id}\",\n",
    "    json=infer_object_detection_payload,\n",
    ")\n",
    "\n",
    "predictions = res.json()\n",
    "```\n",
    "\n",
    "Above, set your Roboflow workspace ID, model ID, and API key.\n",
    "\n",
    "- [Find your workspace and model ID](https://docs.roboflow.com/api-reference/workspace-and-project-ids?ref=blog.roboflow.com)\n",
    "- [Find your API key](https://docs.roboflow.com/api-reference/authentication?ref=blog.roboflow.com#retrieve-an-api-key)\n",
    "\n",
    "Also, set the URL of an image on which you want to run inference. This can be a local file.\n",
    "\n",
    "_To use your YOLOv5 model commercially with Inference, you will need a Roboflow Enterprise license, through which you gain a pass-through license for using YOLOv5. An enterprise license also grants you access to features like advanced device management, multi-model containers, auto-batch inference, and more._"
   ]
  },
  {
   "cell_type": "code",
   "execution_count": null,
   "metadata": {
    "id": "HP1kp4mjX2Fn"
   },
   "source": [],
   "outputs": []
  },
  {
   "cell_type": "markdown",
   "metadata": {
    "id": "ovQgOj_xSNDg"
   },
   "source": [
    "## 🏆 Congratulations\n",
    "\n",
    "### Learning Resources\n",
    "\n",
    "Roboflow has produced many resources that you may find interesting as you advance your knowledge of computer vision:\n",
    "\n",
    "- [Roboflow Notebooks](https://github.com/roboflow/notebooks): A repository of over 20 notebooks that walk through how to train custom models with a range of model types, from YOLOv7 to SegFormer.\n",
    "- [Roboflow YouTube](https://www.youtube.com/c/Roboflow): Our library of videos featuring deep dives into the latest in computer vision, detailed tutorials that accompany our notebooks, and more.\n",
    "- [Roboflow Discuss](https://discuss.roboflow.com/): Have a question about how to do something on Roboflow? Ask your question on our discussion forum.\n",
    "- [Roboflow Models](https://roboflow.com): Learn about state-of-the-art models and their performance. Find links and tutorials to guide your learning.\n",
    "\n",
    "### Convert data formats\n",
    "\n",
    "Roboflow provides free utilities to convert data between dozens of popular computer vision formats. Check out [Roboflow Formats](https://roboflow.com/formats) to find tutorials on how to convert data between formats in a few clicks.\n",
    "\n",
    "### Connect computer vision to your project logic\n",
    "\n",
    "[Roboflow Templates](https://roboflow.com/templates) is a public gallery of code snippets that you can use to connect computer vision to your project logic. Code snippets range from sending emails after inference to measuring object distance between detections."
   ]
  }
 ],
 "metadata": {
  "accelerator": "GPU",
  "colab": {
   "provenance": []
  },
  "gpuClass": "standard",
  "hide_input": false,
  "kernelspec": {
   "display_name": "Python 3 (ipykernel)",
   "language": "python",
   "name": "python3"
  },
  "language_info": {
   "codemirror_mode": {
    "name": "ipython",
    "version": 3
   },
   "file_extension": ".py",
   "mimetype": "text/x-python",
   "name": "python",
   "nbconvert_exporter": "python",
   "pygments_lexer": "ipython3",
   "version": "3.11.4"
  },
  "toc": {
   "base_numbering": 1,
   "nav_menu": {},
   "number_sections": true,
   "sideBar": true,
   "skip_h1_title": false,
   "title_cell": "Table of Contents",
   "title_sidebar": "Contents",
   "toc_cell": false,
   "toc_position": {},
   "toc_section_display": true,
   "toc_window_display": false
  }
 },
 "nbformat": 4,
 "nbformat_minor": 1
}
